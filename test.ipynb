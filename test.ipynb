{
 "cells": [
  {
   "cell_type": "code",
   "execution_count": 1,
   "metadata": {},
   "outputs": [],
   "source": [
    "import torch\n",
    "from transformers import AutoTokenizer, AutoModelForSeq2SeqLM"
   ]
  },
  {
   "cell_type": "code",
   "execution_count": 5,
   "metadata": {},
   "outputs": [],
   "source": [
    "model_path = \"./tamil_english_translation_model\"\n",
    " "
   ]
  },
  {
   "cell_type": "code",
   "execution_count": 6,
   "metadata": {},
   "outputs": [
    {
     "name": "stdout",
     "output_type": "stream",
     "text": [
      "Using device: cuda\n"
     ]
    },
    {
     "name": "stderr",
     "output_type": "stream",
     "text": [
      "c:\\Users\\dhanu\\.conda\\envs\\idk_gpu\\lib\\site-packages\\transformers\\models\\marian\\tokenization_marian.py:175: UserWarning: Recommended: pip install sacremoses.\n",
      "  warnings.warn(\"Recommended: pip install sacremoses.\")\n"
     ]
    }
   ],
   "source": [
    "device = torch.device(\"cuda\" if torch.cuda.is_available() else \"cpu\")\n",
    "print(f\"Using device: {device}\")\n",
    "\n",
    "tokenizer = AutoTokenizer.from_pretrained(model_path)\n",
    "model = AutoModelForSeq2SeqLM.from_pretrained(model_path).to(device)"
   ]
  },
  {
   "cell_type": "code",
   "execution_count": 7,
   "metadata": {},
   "outputs": [],
   "source": [
    "def translate(text, tokenizer, model, device, max_length=128):\n",
    "    \"\"\"\n",
    "    Translate a single text from Tamil to English.\n",
    "    \n",
    "    Args:\n",
    "        text (str): Input Tamil text\n",
    "        tokenizer: Loaded tokenizer\n",
    "        model: Loaded translation model\n",
    "        device: Torch device\n",
    "        max_length (int): Maximum length of generated translation\n",
    "\n",
    "    Returns:\n",
    "        str: Translated English text\n",
    "    \"\"\"\n",
    "    inputs = tokenizer(\n",
    "        text, \n",
    "        return_tensors=\"pt\", \n",
    "        padding=True, \n",
    "        truncation=True, \n",
    "        max_length=max_length\n",
    "    ).to(device)\n",
    "    \n",
    "    outputs = model.generate(\n",
    "        **inputs, \n",
    "        max_length=max_length, \n",
    "        num_beams=4, \n",
    "        early_stopping=True\n",
    "    )\n",
    "    \n",
    "    return tokenizer.decode(outputs[0], skip_special_tokens=True)"
   ]
  },
  {
   "cell_type": "code",
   "execution_count": 8,
   "metadata": {},
   "outputs": [],
   "source": [
    "def batch_translate(texts, tokenizer, model, device, max_length=128):\n",
    "    \"\"\"\n",
    "    Translate multiple texts from Tamil to English.\n",
    "    \n",
    "    Args:\n",
    "        texts (list): List of input Tamil texts\n",
    "        tokenizer: Loaded tokenizer\n",
    "        model: Loaded translation model\n",
    "        device: Torch device\n",
    "        max_length (int): Maximum length of generated translations\n",
    "\n",
    "    Returns:\n",
    "        list: Translated English texts\n",
    "    \"\"\"\n",
    "    inputs = tokenizer(\n",
    "        texts, \n",
    "        return_tensors=\"pt\", \n",
    "        padding=True, \n",
    "        truncation=True, \n",
    "        max_length=max_length\n",
    "    ).to(device)\n",
    "    \n",
    "    outputs = model.generate(\n",
    "        **inputs, \n",
    "        max_length=max_length, \n",
    "        num_beams=4, \n",
    "        early_stopping=True\n",
    "    )\n",
    "    \n",
    "    return [\n",
    "        tokenizer.decode(output, skip_special_tokens=True) \n",
    "        for output in outputs\n",
    "    ]\n"
   ]
  },
  {
   "cell_type": "code",
   "execution_count": 10,
   "metadata": {},
   "outputs": [
    {
     "name": "stdout",
     "output_type": "stream",
     "text": [
      "Tamil: வணக்கம் உலகம்!\n",
      "English: We are worldwide!\n"
     ]
    }
   ],
   "source": [
    "tamil_text = \"வணக்கம் உலகம்!\"\n",
    "english_translation = translate(tamil_text, tokenizer, model, device)\n",
    "print(f\"Tamil: {tamil_text}\")\n",
    "print(f\"English: {english_translation}\")"
   ]
  },
  {
   "cell_type": "code",
   "execution_count": 11,
   "metadata": {},
   "outputs": [
    {
     "name": "stdout",
     "output_type": "stream",
     "text": [
      "\n",
      "Batch Translation:\n",
      "Tamil: வணக்கம் உலகம்!\n",
      "English: We are worldwide!\n",
      "Tamil: நான் ஒரு மொழிபெயர்ப்பு மாதிரி உருவாக்குகிறேன்\n",
      "English: I am one language model\n",
      "Tamil: தமிழ் மொழி அருமையான மொழி\n",
      "English: Tamil language is a true language\n",
      "---\n"
     ]
    }
   ],
   "source": [
    "\n",
    "\n",
    "# Batch translation\n",
    "tamil_texts = [\n",
    "    \"வணக்கம் உலகம்!\",\n",
    "    \"நான் ஒரு மொழிபெயர்ப்பு மாதிரி உருவாக்குகிறேன்\",\n",
    "    \"தமிழ் மொழி அருமையான மொழி\"\n",
    "]\n",
    "batch_translations = batch_translate(tamil_texts, tokenizer, model, device)\n",
    "\n",
    "print(\"\\nBatch Translation:\")\n",
    "for tamil, english in zip(tamil_texts, batch_translations):\n",
    "    print(f\"Tamil: {tamil}\")\n",
    "    print(f\"English: {english}\")\n",
    "print(\"---\")"
   ]
  },
  {
   "cell_type": "code",
   "execution_count": null,
   "metadata": {},
   "outputs": [],
   "source": []
  },
  {
   "cell_type": "code",
   "execution_count": null,
   "metadata": {},
   "outputs": [],
   "source": []
  },
  {
   "cell_type": "code",
   "execution_count": null,
   "metadata": {},
   "outputs": [],
   "source": []
  },
  {
   "cell_type": "code",
   "execution_count": null,
   "metadata": {},
   "outputs": [],
   "source": []
  },
  {
   "cell_type": "code",
   "execution_count": null,
   "metadata": {},
   "outputs": [],
   "source": []
  },
  {
   "cell_type": "code",
   "execution_count": null,
   "metadata": {},
   "outputs": [],
   "source": [
    "\n",
    "\n",
    "class TranslationModel:\n",
    "    def __init__(self, model_path):\n",
    "        # Ensure GPU is available\n",
    "        self.device = torch.device(\"cuda\" if torch.cuda.is_available() else \"cpu\")\n",
    "        print(f\"Using device: {self.device}\")\n",
    "        \n",
    "        # Load saved model and tokenizer\n",
    "        self.tokenizer = AutoTokenizer.from_pretrained(model_path)\n",
    "        self.model = AutoModelForSeq2SeqLM.from_pretrained(model_path).to(self.device)\n",
    "    \n",
    "    def translate(self, text, max_length=128):\n",
    "        \"\"\"\n",
    "        Translate a single text from Tamil to English\n",
    "        \n",
    "        Args:\n",
    "            text (str): Input Tamil text\n",
    "            max_length (int): Maximum length of generated translation\n",
    "        \n",
    "        Returns:\n",
    "            str: Translated English text\n",
    "        \"\"\"\n",
    "        # Prepare input\n",
    "        inputs = self.tokenizer(\n",
    "            text, \n",
    "            return_tensors=\"pt\", \n",
    "            padding=True, \n",
    "            truncation=True, \n",
    "            max_length=max_length\n",
    "        ).to(self.device)\n",
    "        \n",
    "        # Generate translation\n",
    "        outputs = self.model.generate(\n",
    "            **inputs, \n",
    "            max_length=max_length, \n",
    "            num_beams=4, \n",
    "            early_stopping=True\n",
    "        )\n",
    "        \n",
    "        # Decode and return translation\n",
    "        return self.tokenizer.decode(outputs[0], skip_special_tokens=True)\n",
    "    \n",
    "    def batch_translate(self, texts, max_length=128):\n",
    "        \"\"\"\n",
    "        Translate multiple texts from Tamil to English\n",
    "        \n",
    "        Args:\n",
    "            texts (list): List of input Tamil texts\n",
    "            max_length (int): Maximum length of generated translations\n",
    "        \n",
    "        Returns:\n",
    "            list: Translated English texts\n",
    "        \"\"\"\n",
    "        # Prepare inputs\n",
    "        inputs = self.tokenizer(\n",
    "            texts, \n",
    "            return_tensors=\"pt\", \n",
    "            padding=True, \n",
    "            truncation=True, \n",
    "            max_length=max_length\n",
    "        ).to(self.device)\n",
    "        \n",
    "        # Generate translations\n",
    "        outputs = self.model.generate(\n",
    "            **inputs, \n",
    "            max_length=max_length, \n",
    "            num_beams=4, \n",
    "            early_stopping=True\n",
    "        )\n",
    "        \n",
    "        # Decode translations\n",
    "        return [\n",
    "            self.tokenizer.decode(output, skip_special_tokens=True) \n",
    "            for output in outputs\n",
    "        ]\n",
    "\n",
    "# Example usage\n",
    "def main():\n",
    "    # Path where the model was saved\n",
    "    MODEL_PATH = \"./tamil_english_translation_model\"\n",
    "    \n",
    "    # Initialize translation model\n",
    "    translator = TranslationModel(MODEL_PATH)\n",
    "    \n",
    "    # Single text translation\n",
    "    tamil_text = \"வணக்கம் உலகம்!\"\n",
    "    english_translation = translator.translate(tamil_text)\n",
    "    print(f\"Tamil: {tamil_text}\")\n",
    "    print(f\"English: {english_translation}\")\n",
    "    \n",
    "    # Batch translation\n",
    "    tamil_texts = [\n",
    "        \"வணக்கம் உலகம்!\",\n",
    "        \"நான் ஒரு மொழிபெயர்ப்பு மாதிரி உருவாக்குகிறேன்\",\n",
    "        \"தமிழ் மொழி அருமையான மொழி\"\n",
    "    ]\n",
    "    batch_translations = translator.batch_translate(tamil_texts)\n",
    "    \n",
    "    print(\"\\nBatch Translation:\")\n",
    "    for tamil, english in zip(tamil_texts, batch_translations):\n",
    "        print(f\"Tamil: {tamil}\")\n",
    "        print(f\"English: {english}\")\n",
    "        print(\"---\")\n",
    "\n",
    "if __name__ == \"__main__\":\n",
    "    main()"
   ]
  },
  {
   "cell_type": "code",
   "execution_count": null,
   "metadata": {},
   "outputs": [],
   "source": []
  },
  {
   "cell_type": "code",
   "execution_count": null,
   "metadata": {},
   "outputs": [],
   "source": []
  },
  {
   "cell_type": "code",
   "execution_count": null,
   "metadata": {},
   "outputs": [],
   "source": []
  },
  {
   "cell_type": "code",
   "execution_count": null,
   "metadata": {},
   "outputs": [],
   "source": []
  }
 ],
 "metadata": {
  "kernelspec": {
   "display_name": "idk_gpu",
   "language": "python",
   "name": "python3"
  },
  "language_info": {
   "codemirror_mode": {
    "name": "ipython",
    "version": 3
   },
   "file_extension": ".py",
   "mimetype": "text/x-python",
   "name": "python",
   "nbconvert_exporter": "python",
   "pygments_lexer": "ipython3",
   "version": "3.10.14"
  }
 },
 "nbformat": 4,
 "nbformat_minor": 2
}
